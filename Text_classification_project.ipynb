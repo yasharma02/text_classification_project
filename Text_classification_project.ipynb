{
 "cells": [
  {
   "cell_type": "code",
   "execution_count": 1,
   "metadata": {
    "collapsed": true
   },
   "outputs": [],
   "source": [
    "import os   # for traversing the files in directory\n",
    "import numpy as np\n",
    "import time\n",
    "from collections import Counter"
   ]
  },
  {
   "cell_type": "code",
   "execution_count": 2,
   "metadata": {
    "collapsed": true
   },
   "outputs": [],
   "source": [
    "import re     # regular expressions for splitting the data into seperate strings\n",
    "import matplotlib.pyplot as plt"
   ]
  },
  {
   "cell_type": "code",
   "execution_count": 3,
   "metadata": {
    "collapsed": true
   },
   "outputs": [],
   "source": [
    "from sklearn.naive_bayes import MultinomialNB\n",
    "from sklearn.metrics import classification_report , confusion_matrix"
   ]
  },
  {
   "cell_type": "code",
   "execution_count": 4,
   "metadata": {
    "collapsed": true
   },
   "outputs": [],
   "source": [
    "# this function generates the vocabulary by reaDING THE STRINGS IN ALL 16000 files and comparing them with \n",
    "                        #the list of stopwords, rest 4000 files are for testing and they are not used in building vocab\n",
    "def build_vocabulary(rootdir,stopwords):      \n",
    "    vocab={}\n",
    "    for dirname,subdir,filename in os.walk(rootdir):\n",
    "        cnt=0\n",
    "        for file in filename:\n",
    "            if cnt>=800:      # for each class we are taking 800 files for training\n",
    "                continue\n",
    "            filepath= os.path.join(dirname,file)\n",
    "            with open(filepath,'r') as f:\n",
    "                #for j in range(12):     # skipping the first 12 lines of each file as it contains useless info.\n",
    "                 #   f.readline() \n",
    "                filedata = f.read()\n",
    "                filedata = filedata.lower()\n",
    "                wordlist = re.split(r\"\\W|\\d\",filedata)   # splitting the data into seperate strings\n",
    "                counter=Counter(wordlist)\n",
    "                common_words=list(set(wordlist)-set(stopwords))\n",
    "                for word in common_words:\n",
    "                    freq=counter[word]          # adding word in vocab if it's not in stopwords\n",
    "                    if word in vocab:\n",
    "                        vocab[word]+=freq\n",
    "                    else:\n",
    "                        vocab[word]=freq\n",
    "            cnt+=1\n",
    "    return vocab\n"
   ]
  },
  {
   "cell_type": "code",
   "execution_count": 5,
   "metadata": {
    "scrolled": true
   },
   "outputs": [
    {
     "name": "stdout",
     "output_type": "stream",
     "text": [
      "108.4022650718689\n"
     ]
    }
   ],
   "source": [
    "# rootdir is the path where the files are in my pc  \n",
    "rootdir='E:/machine_learning/attachments/csv/text_classification_data/20_newsgroups/20_newsgroups'\n",
    "stopwords = list([\"\",\" \",\"a\", \"about\", \"above\", \"above\", \"across\", \"after\", \"afterwards\", \"again\", \"against\", \"all\", \"almost\", \"alone\", \"along\", \"already\", \"also\",\"although\",\"always\",\"am\",\"among\", \"amongst\", \"amoungst\", \"amount\",  \"an\", \"and\", \"another\", \"any\",\"anyhow\",\"anyone\",\"anything\",\"anyway\", \"anywhere\", \"are\", \"around\", \"as\",  \"at\", \"back\",\"be\",\"became\", \"because\",\"become\",\"becomes\", \"becoming\", \"been\", \"before\", \"beforehand\", \"behind\", \"being\", \"below\", \"beside\", \"besides\", \"between\", \"beyond\", \"bill\", \"both\", \"bottom\",\"but\", \"by\", \"call\", \"can\", \"cannot\", \"cant\", \"co\", \"con\", \"could\", \"couldnt\", \"cry\", \"de\", \"describe\", \"detail\", \"do\", \"done\", \"down\", \"due\", \"during\", \"each\", \"eg\", \"eight\", \"either\", \"eleven\",\"else\", \"elsewhere\", \"empty\", \"enough\", \"etc\", \"even\", \"ever\", \"every\", \"everyone\", \"everything\", \"everywhere\", \"except\", \"few\", \"fifteen\", \"fify\", \"fill\", \"find\", \"fire\", \"first\", \"five\", \"for\", \"former\", \"formerly\", \"forty\", \"found\", \"four\", \"from\", \"front\", \"full\", \"further\", \"get\", \"give\", \"go\", \"had\", \"has\", \"hasnt\", \"have\", \"he\", \"hence\", \"her\", \"here\", \"hereafter\", \"hereby\", \"herein\", \"hereupon\", \"hers\", \"herself\", \"him\", \"himself\", \"his\", \"how\", \"however\", \"hundred\", \"ie\", \"if\", \"in\", \"inc\", \"indeed\", \"interest\", \"into\", \"is\", \"it\", \"its\", \"itself\", \"keep\", \"last\", \"latter\", \"latterly\", \"least\", \"less\", \"ltd\", \"made\", \"many\", \"may\", \"me\", \"meanwhile\", \"might\", \"mill\", \"mine\", \"more\", \"moreover\", \"most\", \"mostly\", \"move\", \"much\", \"must\", \"my\", \"myself\", \"name\", \"namely\", \"neither\", \"never\", \"nevertheless\", \"next\", \"nine\", \"no\", \"nobody\", \"none\", \"noone\", \"nor\", \"not\", \"nothing\", \"now\", \"nowhere\", \"of\", \"off\", \"often\", \"on\", \"once\", \"one\", \"only\", \"onto\", \"or\", \"other\", \"others\", \"otherwise\", \"our\", \"ours\", \"ourselves\", \"out\", \"over\", \"own\",\"part\", \"per\", \"perhaps\", \"please\", \"put\", \"rather\", \"re\", \"same\", \"see\", \"seem\", \"seemed\", \"seeming\", \"seems\", \"serious\", \"several\", \"she\", \"should\", \"show\", \"side\", \"since\", \"sincere\", \"six\", \"sixty\", \"so\", \"some\", \"somehow\", \"someone\", \"something\", \"sometime\", \"sometimes\", \"somewhere\", \"still\", \"such\", \"system\", \"take\", \"ten\", \"than\", \"that\", \"the\", \"their\", \"them\", \"themselves\", \"then\", \"thence\", \"there\", \"thereafter\", \"thereby\", \"therefore\", \"therein\", \"thereupon\", \"these\", \"they\", \"thickv\", \"thin\", \"third\", \"this\", \"those\", \"though\", \"three\", \"through\", \"throughout\", \"thru\", \"thus\", \"to\", \"together\", \"too\", \"top\", \"toward\", \"towards\", \"twelve\", \"twenty\", \"two\", \"un\", \"under\", \"until\", \"up\", \"upon\", \"us\", \"very\", \"via\", \"was\", \"we\", \"well\", \"were\", \"what\", \"whatever\", \"when\", \"whence\", \"whenever\", \"where\", \"whereafter\", \"whereas\", \"whereby\", \"wherein\", \"whereupon\", \"wherever\", \"whether\", \"which\", \"while\", \"whither\", \"who\", \"whoever\", \"whole\", \"whom\", \"whose\", \"why\", \"will\", \"with\", \"within\", \"without\", \"would\", \"yet\", \"you\", \"your\", \"yours\", \"yourself\", \"yourselves\", \"the\"])\n",
    "#print(stopwords)\n",
    "start=time.time()\n",
    "vocabulary= build_vocabulary(rootdir,stopwords)  # generate the vocabulary\n",
    "end=time.time()\n",
    "print(end-start)\n",
    "#vocabulary"
   ]
  },
  {
   "cell_type": "code",
   "execution_count": 6,
   "metadata": {
    "scrolled": true
   },
   "outputs": [
    {
     "name": "stdout",
     "output_type": "stream",
     "text": [
      "0.16411733627319336\n",
      "True\n"
     ]
    },
    {
     "data": {
      "text/plain": [
       "109221"
      ]
     },
     "execution_count": 6,
     "metadata": {},
     "output_type": "execute_result"
    }
   ],
   "source": [
    "# sorting the vocabulary on the basis of frequency of words\n",
    "vocab={}\n",
    "def cmp(t):\n",
    "    return t[1]\n",
    "start=time.time()\n",
    "for k,v in sorted(vocabulary.items(),key = cmp,reverse = True):\n",
    "    vocab[k]= v\n",
    "end=time.time()\n",
    "print(end-start)\n",
    "print(vocab==vocabulary)\n",
    "#print(vocab)\n",
    "len(vocab)"
   ]
  },
  {
   "cell_type": "code",
   "execution_count": 7,
   "metadata": {},
   "outputs": [
    {
     "data": {
      "image/png": "[encoded data removed]",
      "text/plain": [
       "<matplotlib.figure.Figure at 0x295b57dc88>"
      ]
     },
     "metadata": {},
     "output_type": "display_data"
    },
    {
     "data": {
      "image/png": "[encoded data removed]",
      "text/plain": [
       "<matplotlib.figure.Figure at 0x295a449fd0>"
      ]
     },
     "metadata": {},
     "output_type": "display_data"
    }
   ],
   "source": [
    "# plotting freq vs number of words with freq greater than or equal to that freq\n",
    "y_axis=vocab.values()\n",
    "x_axis=[]\n",
    "cnt=1\n",
    "for freq in y_axis:\n",
    "    x_axis.append(cnt)\n",
    "    cnt+=1\n",
    "plt.plot(x_axis,y_axis)\n",
    "plt.grid()\n",
    "#plt.axis([8000,100000,0,50])\n",
    "plt.show()\n",
    "plt.plot(x_axis,y_axis)\n",
    "plt.grid()\n",
    "plt.axis([0,40,0,80000])\n",
    "plt.show()"
   ]
  },
  {
   "cell_type": "code",
   "execution_count": 8,
   "metadata": {},
   "outputs": [
    {
     "data": {
      "text/plain": [
       "9989"
      ]
     },
     "execution_count": 8,
     "metadata": {},
     "output_type": "execute_result"
    }
   ],
   "source": [
    "# taking only the top 10000 words from the vocabulary\n",
    "cnt=0\n",
    "vocabulary={}\n",
    "for k,v in vocab.items():\n",
    "    if cnt<=10:\n",
    "        cnt+=1\n",
    "        continue\n",
    "    if cnt>=10000:\n",
    "        break\n",
    "    vocabulary[k]= v\n",
    "    cnt+=1\n",
    "len(vocabulary)"
   ]
  },
  {
   "cell_type": "code",
   "execution_count": 9,
   "metadata": {
    "collapsed": true
   },
   "outputs": [],
   "source": [
    "# generates the training and testing data in form of arrays\n",
    "def gen_train_test(rootdir,vocabulary,class_list):\n",
    "    x_train , x_test , y_train , y_test = [],[],[],[]\n",
    "    vocab_idx_dict={}\n",
    "    i=0\n",
    "    for key in vocabulary.keys():\n",
    "        vocab_idx_dict[key]=i\n",
    "        i+=1\n",
    "    for dirname,subdir,filename in os.walk(rootdir):\n",
    "        cnt=0\n",
    "        class_name=''\n",
    "        for c_name in class_list:\n",
    "            if c_name in dirname:\n",
    "                class_name=c_name\n",
    "        for file in filename:\n",
    "            filepath=os.path.join(dirname,file)\n",
    "            x=np.zeros(len(vocabulary))\n",
    "            with open(filepath,'r') as f:\n",
    "                #for j in range(12):\n",
    "                 #   f.readline()\n",
    "                filedata=f.read()\n",
    "                filedata=filedata.lower()\n",
    "                wordlist = re.split(r\"\\W|\\d\",filedata)\n",
    "                counter=Counter(wordlist)\n",
    "                common_words=list(set(vocabulary)&set(wordlist))\n",
    "                for word in common_words:   # for each file we are adding a row with the freq of each word in vocabulary\n",
    "                    freq=counter[word]           # in that particular file\n",
    "                    idx=vocab_idx_dict[word]\n",
    "                    x[idx]=freq\n",
    "            if cnt<800:                    # 800 files of each class are added in the training data, rest 200 in testing\n",
    "                x_train.append(x)\n",
    "                y_train.append(class_name)\n",
    "            else:\n",
    "                x_test.append(x)\n",
    "                y_test.append(class_name)\n",
    "            cnt+=1\n",
    "    return x_train,x_test,y_train,y_test\n"
   ]
  },
  {
   "cell_type": "code",
   "execution_count": 10,
   "metadata": {},
   "outputs": [
    {
     "name": "stdout",
     "output_type": "stream",
     "text": [
      "56.50481295585632\n"
     ]
    }
   ],
   "source": [
    "# class_list contains the name of all 20 classes\n",
    "class_list=os.listdir(rootdir)\n",
    "start=time.time()\n",
    "x_train,x_test,y_train,y_test=gen_train_test(rootdir,vocabulary,class_list) # generates the training and testing data\n",
    "end=time.time()                                                                               \n",
    "print(end-start)"
   ]
  },
  {
   "cell_type": "code",
   "execution_count": 11,
   "metadata": {},
   "outputs": [
    {
     "name": "stdout",
     "output_type": "stream",
     "text": [
      "16000 16000 3997 3997\n"
     ]
    }
   ],
   "source": [
    "print(len(x_train),len(y_train),len(x_test),len(y_test))"
   ]
  },
  {
   "cell_type": "code",
   "execution_count": 12,
   "metadata": {},
   "outputs": [
    {
     "name": "stdout",
     "output_type": "stream",
     "text": [
      "0.005018711090087891\n"
     ]
    }
   ],
   "source": [
    "# creating numpy arrays of training and testing data as numpy arrays are faster\n",
    "x_train=np.array(x_train)\n",
    "x_test=np.array(x_test)\n",
    "keys=set(y_train)\n",
    "class_dict={}\n",
    "i=0\n",
    "for k in keys:\n",
    "    class_dict[k]=i       # replacing each class with a unique number as numpy arrays only contain numbers\n",
    "    i+=1\n",
    "l=[]\n",
    "start=time.time()\n",
    "for y in y_train:\n",
    "    l.append(class_dict[y])\n",
    "y_train=np.array(l)\n",
    "l=[]\n",
    "for y in y_test:\n",
    "    l.append(class_dict[y])\n",
    "y_test=np.array(l)\n",
    "end=time.time()\n",
    "print(end-start)"
   ]
  },
  {
   "cell_type": "code",
   "execution_count": 13,
   "metadata": {},
   "outputs": [
    {
     "name": "stdout",
     "output_type": "stream",
     "text": [
      "16000 16000 3997 3997\n"
     ]
    }
   ],
   "source": [
    "print(len(x_train),len(y_train),len(x_test),len(y_test))"
   ]
  },
  {
   "cell_type": "code",
   "execution_count": 14,
   "metadata": {
    "collapsed": true
   },
   "outputs": [],
   "source": [
    "# this function generates the dictonary which will be used in the predict function\n",
    "def fit(x_train,y_train,vocabulary):\n",
    "    dict={}\n",
    "    dict[\"total_data\"]=len(y_train) # total_data is the nummber of training data points\n",
    "    class_set=set(y_train)\n",
    "    for current_class in class_set:\n",
    "        dict[current_class]={}\n",
    "        current_class_data= (y_train==current_class)\n",
    "        current_class_data= x_train[current_class_data]    #total_count for each class is the number of training data \n",
    "        dict[current_class]['total_count']=len(current_class_data)       # points belonging to that class\n",
    "        idx=0\n",
    "        sum=0\n",
    "        for feature in vocabulary:\n",
    "            dict[current_class][feature]=current_class_data[:,idx].sum()\n",
    "            sum+=dict[current_class][feature]\n",
    "            idx+=1\n",
    "        dict[current_class]['total_words']=sum      # total_words for each class is the total number of words in        \n",
    "    return dict                                  # the training data for that class\n"
   ]
  },
  {
   "cell_type": "code",
   "execution_count": 15,
   "metadata": {
    "collapsed": true
   },
   "outputs": [],
   "source": [
    "# it calculates the feature probability for one class\n",
    "def probability(dict,x):\n",
    "    ret_val=0\n",
    "    t=0\n",
    "    num_features=len(dict.keys())-2\n",
    "    den=dict['total_words']+ num_features   # num_features is laplace correction\n",
    "    idx1=list(dict.keys()).index('total_words')\n",
    "    idx2=list(dict.keys()).index('total_count')\n",
    "    num_array=list(dict.values()) \n",
    "    if idx1>idx2:\n",
    "        del num_array[idx1]\n",
    "        del num_array[idx2]\n",
    "    else:\n",
    "        del num_array[idx2]\n",
    "        del num_array[idx1]\n",
    "    start=time.time()\n",
    "    \n",
    "    num_array=np.array(num_array)\n",
    "    num_array=num_array+1   # 1 is laplace correction\n",
    "    num_array=num_array/den\n",
    "    array=np.log(num_array)\n",
    "    array=array*x    # multiplying the probability of each word with its frequency of occurence in that testing data pt\n",
    "    ret_val=array.sum()\n",
    "    end=time.time()\n",
    "    t+=end-start\n",
    "    return ret_val,t"
   ]
  },
  {
   "cell_type": "code",
   "execution_count": 16,
   "metadata": {
    "collapsed": true
   },
   "outputs": [],
   "source": [
    "# it predicts the class for one testing data point\n",
    "def predict_single_point(dict,x):\n",
    "    classes=dict.keys()\n",
    "    t=0\n",
    "    ret_val=-10\n",
    "    class_name=-100\n",
    "    check_first=True\n",
    "    log_total_data= np.log(dict['total_data'])\n",
    "    for curr_class in classes:    # calculate probability for all classes and select the class with max. probability \n",
    "        if curr_class=='total_data':\n",
    "            continue\n",
    "        prob_class= np.log(dict[curr_class]['total_count'])- log_total_data  # prior probability or class probability\n",
    "        prob_feature,temp=probability(dict[curr_class],x)    # feature probability\n",
    "        t+=temp\n",
    "        prob=prob_class+prob_feature\n",
    "        if check_first :\n",
    "            ret_val=prob\n",
    "            class_name=curr_class\n",
    "            check_first=False\n",
    "        if ret_val<prob:\n",
    "            ret_val=prob\n",
    "            class_name=curr_class\n",
    "    return class_name,t\n"
   ]
  },
  {
   "cell_type": "code",
   "execution_count": 17,
   "metadata": {
    "collapsed": true
   },
   "outputs": [],
   "source": [
    "# it predicts the class for all 4000 testing data points\n",
    "def predict(dict,x_test):\n",
    "    y_pred=[]\n",
    "    t=0\n",
    "    for i in range(x_test.shape[0]):\n",
    "        y,temp=predict_single_point(dict,x_test[i,:])\n",
    "        y_pred.append(y)\n",
    "        t+=temp\n",
    "    print(t)\n",
    "    return y_pred\n"
   ]
  },
  {
   "cell_type": "code",
   "execution_count": 18,
   "metadata": {},
   "outputs": [
    {
     "name": "stdout",
     "output_type": "stream",
     "text": [
      "2.0304512977600098\n",
      "67.78162145614624\n",
      "108.31429195404053\n",
      "             precision    recall  f1-score   support\n",
      "\n",
      "          0       0.83      0.66      0.74       200\n",
      "          1       0.75      0.93      0.83       200\n",
      "          2       0.81      0.81      0.81       200\n",
      "          3       0.89      0.95      0.92       200\n",
      "          4       0.96      0.86      0.91       200\n",
      "          5       0.90      0.55      0.68       200\n",
      "          6       0.64      0.81      0.71       200\n",
      "          7       0.70      0.69      0.70       200\n",
      "          8       0.87      0.70      0.78       200\n",
      "          9       0.97      0.96      0.96       200\n",
      "         10       0.81      0.92      0.86       200\n",
      "         11       0.95      0.91      0.93       200\n",
      "         12       0.63      0.66      0.64       200\n",
      "         13       0.89      0.93      0.90       200\n",
      "         14       0.76      0.90      0.82       200\n",
      "         15       0.94      0.91      0.92       200\n",
      "         16       0.92      0.93      0.92       200\n",
      "         17       0.96      0.96      0.96       200\n",
      "         18       0.95      1.00      0.98       197\n",
      "         19       0.78      0.74      0.76       200\n",
      "\n",
      "avg / total       0.85      0.84      0.84      3997\n",
      "\n",
      "[[132   0   0  14   0   0   0   1   0   0  30   1  20   1   1   0   0   0\n",
      "    0   0]\n",
      " [  0 185   0   0   0   1   6   1   0   0   0   0   0   0   7   0   0   0\n",
      "    0   0]\n",
      " [  4   1 162   9   1   1   4   8   0   0   0   1   0   1   5   2   1   0\n",
      "    0   0]\n",
      " [  3   1   0 190   0   1   0   1   0   0   1   0   3   0   0   0   0   0\n",
      "    0   0]\n",
      " [  2   5   5   0 173   0   0   3   0   2   0   0   0   3   2   0   3   2\n",
      "    0   0]\n",
      " [  0  12   2   0   0 109  42  13  13   0   0   0   0   0   8   0   1   0\n",
      "    0   0]\n",
      " [  0  18  10   0   0   2 162   1   0   0   0   0   0   0   4   1   1   0\n",
      "    0   1]\n",
      " [  0  13   5   0   1   3  12 139   7   0   0   7   0   0   9   3   1   0\n",
      "    0   0]\n",
      " [  0   5   2   0   1   3  17  24 141   0   0   0   0   0   2   2   3   0\n",
      "    0   0]\n",
      " [  0   0   0   0   1   0   0   0   0 192   0   0   0   1   3   0   1   2\n",
      "    0   0]\n",
      " [  2   0   0   0   0   0   1   0   0   0 184   0   8   5   0   0   0   0\n",
      "    0   0]\n",
      " [  0   0   4   0   0   0   2   4   1   0   1 182   0   1   3   1   1   0\n",
      "    0   0]\n",
      " [  7   0   0   0   0   0   0   1   0   0  10   0 131   1   0   1   0   0\n",
      "    9  40]\n",
      " [  1   0   3   0   1   0   0   1   1   0   0   0   0 185   4   0   3   1\n",
      "    0   0]\n",
      " [  0   4   4   0   0   0   9   0   0   0   1   0   0   1 179   0   0   2\n",
      "    0   0]\n",
      " [  7   2   1   0   2   0   0   2   0   0   0   0   0   4   0 181   0   0\n",
      "    0   1]\n",
      " [  0   0   1   0   0   0   0   0   0   0   0   0   0   5   8   0 186   0\n",
      "    0   0]\n",
      " [  0   0   0   0   1   1   0   0   0   4   0   0   0   0   1   0   0 193\n",
      "    0   0]\n",
      " [  0   0   0   0   0   0   0   0   0   0   0   0   0   0   0   0   0   0\n",
      "  197   0]\n",
      " [  1   0   1   0   0   0   0   0   0   0   0   0  45   1   0   1   2   0\n",
      "    1 148]]\n"
     ]
    }
   ],
   "source": [
    "start=time.time()\n",
    "dictionary= fit(x_train,y_train,vocabulary)\n",
    "end=time.time()\n",
    "print(end-start)\n",
    "y_pred=predict(dictionary,x_test)\n",
    "end1=time.time()\n",
    "print(end1-end)\n",
    "print(classification_report(y_test,y_pred))\n",
    "print(confusion_matrix(y_test,y_pred))"
   ]
  },
  {
   "cell_type": "code",
   "execution_count": 19,
   "metadata": {
    "scrolled": false
   },
   "outputs": [
    {
     "name": "stdout",
     "output_type": "stream",
     "text": [
      "1.1343269348144531\n",
      "             precision    recall  f1-score   support\n",
      "\n",
      "          0       0.83      0.66      0.74       200\n",
      "          1       0.75      0.93      0.83       200\n",
      "          2       0.81      0.81      0.81       200\n",
      "          3       0.89      0.95      0.92       200\n",
      "          4       0.96      0.86      0.91       200\n",
      "          5       0.90      0.55      0.68       200\n",
      "          6       0.64      0.81      0.71       200\n",
      "          7       0.70      0.69      0.70       200\n",
      "          8       0.87      0.70      0.78       200\n",
      "          9       0.97      0.96      0.96       200\n",
      "         10       0.81      0.92      0.86       200\n",
      "         11       0.95      0.91      0.93       200\n",
      "         12       0.63      0.66      0.64       200\n",
      "         13       0.89      0.93      0.90       200\n",
      "         14       0.76      0.90      0.82       200\n",
      "         15       0.94      0.91      0.92       200\n",
      "         16       0.92      0.93      0.92       200\n",
      "         17       0.96      0.96      0.96       200\n",
      "         18       0.95      1.00      0.98       197\n",
      "         19       0.78      0.74      0.76       200\n",
      "\n",
      "avg / total       0.85      0.84      0.84      3997\n",
      "\n",
      "[[132   0   0  14   0   0   0   1   0   0  30   1  20   1   1   0   0   0\n",
      "    0   0]\n",
      " [  0 185   0   0   0   1   6   1   0   0   0   0   0   0   7   0   0   0\n",
      "    0   0]\n",
      " [  4   1 162   9   1   1   4   8   0   0   0   1   0   1   5   2   1   0\n",
      "    0   0]\n",
      " [  3   1   0 190   0   1   0   1   0   0   1   0   3   0   0   0   0   0\n",
      "    0   0]\n",
      " [  2   5   5   0 173   0   0   3   0   2   0   0   0   3   2   0   3   2\n",
      "    0   0]\n",
      " [  0  12   2   0   0 109  42  13  13   0   0   0   0   0   8   0   1   0\n",
      "    0   0]\n",
      " [  0  18  10   0   0   2 162   1   0   0   0   0   0   0   4   1   1   0\n",
      "    0   1]\n",
      " [  0  13   5   0   1   3  12 139   7   0   0   7   0   0   9   3   1   0\n",
      "    0   0]\n",
      " [  0   5   2   0   1   3  17  24 141   0   0   0   0   0   2   2   3   0\n",
      "    0   0]\n",
      " [  0   0   0   0   1   0   0   0   0 192   0   0   0   1   3   0   1   2\n",
      "    0   0]\n",
      " [  2   0   0   0   0   0   1   0   0   0 184   0   8   5   0   0   0   0\n",
      "    0   0]\n",
      " [  0   0   4   0   0   0   2   4   1   0   1 182   0   1   3   1   1   0\n",
      "    0   0]\n",
      " [  7   0   0   0   0   0   0   1   0   0  10   0 131   1   0   1   0   0\n",
      "    9  40]\n",
      " [  1   0   3   0   1   0   0   1   1   0   0   0   0 185   4   0   3   1\n",
      "    0   0]\n",
      " [  0   4   4   0   0   0   9   0   0   0   1   0   0   1 179   0   0   2\n",
      "    0   0]\n",
      " [  7   2   1   0   2   0   0   2   0   0   0   0   0   4   0 181   0   0\n",
      "    0   1]\n",
      " [  0   0   1   0   0   0   0   0   0   0   0   0   0   5   8   0 186   0\n",
      "    0   0]\n",
      " [  0   0   0   0   1   1   0   0   0   4   0   0   0   0   1   0   0 193\n",
      "    0   0]\n",
      " [  0   0   0   0   0   0   0   0   0   0   0   0   0   0   0   0   0   0\n",
      "  197   0]\n",
      " [  1   0   1   0   0   0   0   0   0   0   0   0  45   1   0   1   2   0\n",
      "    1 148]]\n",
      "0.838378784088\n",
      "             precision    recall  f1-score   support\n",
      "\n",
      "          0       0.88      0.81      0.84       800\n",
      "          1       0.89      0.97      0.93       800\n",
      "          2       0.95      0.94      0.94       800\n",
      "          3       0.96      0.97      0.97       800\n",
      "          4       0.99      0.94      0.96       800\n",
      "          5       0.96      0.68      0.79       800\n",
      "          6       0.77      0.94      0.85       800\n",
      "          7       0.86      0.93      0.90       800\n",
      "          8       0.97      0.88      0.92       800\n",
      "          9       0.99      0.98      0.98       800\n",
      "         10       0.92      0.95      0.93       800\n",
      "         11       0.99      0.98      0.98       800\n",
      "         12       0.77      0.74      0.76       800\n",
      "         13       0.96      0.96      0.96       800\n",
      "         14       0.88      0.97      0.92       800\n",
      "         15       0.98      0.97      0.98       800\n",
      "         16       0.98      0.98      0.98       800\n",
      "         17       0.98      0.98      0.98       800\n",
      "         18       0.98      1.00      0.99       800\n",
      "         19       0.86      0.89      0.87       800\n",
      "\n",
      "avg / total       0.93      0.92      0.92     16000\n",
      "\n",
      "[[644   0   0  28   1   0   0   0   0   0  36   3  81   2   3   2   0   0\n",
      "    0   0]\n",
      " [  0 773   2   0   0   3  14   0   0   0   0   0   0   0   8   0   0   0\n",
      "    0   0]\n",
      " [  0   9 750   0   0   0  16   4   0   0   0   0   0   9  10   2   0   0\n",
      "    0   0]\n",
      " [ 14   0   1 778   0   0   0   0   0   0   2   0   3   0   1   0   0   0\n",
      "    1   0]\n",
      " [  1   6  10   2 749   0   4  10   0   2   0   0   0   1   7   3   4   1\n",
      "    0   0]\n",
      " [  0  27   3   0   0 544 148  40  17   0   0   0   0   1  19   1   0   0\n",
      "    0   0]\n",
      " [  0  24   2   0   0   2 756   8   0   0   0   0   0   0   7   0   1   0\n",
      "    0   0]\n",
      " [  0   9   2   0   0   5  19 747   6   0   0   1   0   1  10   0   0   0\n",
      "    0   0]\n",
      " [  0  15   4   0   2   7  13  42 707   0   0   0   0   0   8   1   1   0\n",
      "    0   0]\n",
      " [  0   1   0   0   0   0   0   0   0 782   0   0   0   2   2   1   4   8\n",
      "    0   0]\n",
      " [ 22   0   0   0   0   1   0   0   0   0 757   5  12   0   1   1   1   0\n",
      "    0   0]\n",
      " [  1   0   1   0   0   1   0   6   1   0   1 787   0   0   1   0   0   1\n",
      "    0   0]\n",
      " [ 42   0   0   3   1   1   0   1   0   0  24   0 593   1   1   0   0   0\n",
      "   13 120]\n",
      " [  1   1   7   0   0   0   0   1   0   0   0   0   0 767  16   0   4   3\n",
      "    0   0]\n",
      " [  0   2   6   0   0   2   7   0   0   0   0   0   0   8 774   1   0   0\n",
      "    0   0]\n",
      " [  1   3   3   1   1   2   0   7   0   0   1   1   0   0   4 775   0   1\n",
      "    0   0]\n",
      " [  0   0   0   0   0   0   0   0   0   1   0   0   0   7   6   0 786   0\n",
      "    0   0]\n",
      " [  2   0   0   0   0   1   0   0   0   6   2   0   0   1   3   0   1 784\n",
      "    0   0]\n",
      " [  0   0   0   0   0   0   0   1   0   0   0   0   0   0   0   0   0   0\n",
      "  799   0]\n",
      " [  2   0   0   0   0   0   0   0   0   0   0   1  77   0   1   0   0   0\n",
      "    4 715]]\n",
      "0.9229375\n"
     ]
    }
   ],
   "source": [
    "# using the inbuilt multinomial naive bayes for text classification\n",
    "clf=MultinomialNB()\n",
    "start=time.time()\n",
    "clf.fit(x_train,y_train)\n",
    "y_pred=clf.predict(x_test)\n",
    "end=time.time()\n",
    "print(end-start)\n",
    "print(classification_report(y_test,y_pred))\n",
    "print(confusion_matrix(y_test,y_pred))\n",
    "print(clf.score(x_test,y_test))\n",
    "y_pred=clf.predict(x_train)\n",
    "print(classification_report(y_train,y_pred))\n",
    "print(confusion_matrix(y_train,y_pred))\n",
    "print(clf.score(x_train,y_train))"
   ]
  },
  {
   "cell_type": "code",
   "execution_count": null,
   "metadata": {
    "collapsed": true
   },
   "outputs": [],
   "source": [
    "################# testing cell ################\n",
    "\n",
    "def cmp(t):\n",
    "    return t[1]\n",
    "\n",
    "d={'e':1,'a':4,'r':0,'b':10}\n",
    "type(d.items())\n",
    "sorted(d.items(),key = cmp)\n",
    "\n",
    "d=((1,'e'),(4,'a'),(0,'r'),(10,'b'))\n",
    "sorted(d,reverse=True)\n",
    "\n",
    "d=[(1,'abc'),(4,'azxc'),(0,'rwef'),(10,'bdc')]\n",
    "sorted(d,reverse=True)\n",
    "\n",
    "for k in range(10):\n",
    "    if k>5:\n",
    "        break\n",
    "    print(k)\n",
    "    \n",
    "#\"abcde\"-\"abc\"\n",
    "os.listdir('E:/machine_learning/attachments/csv/text_classification_data/20_newsgroups/20_newsgroups')[0]\n",
    "'sh' in 'yash'\n",
    "type(os.listdir(rootdir))\n",
    "a=np.array([[1,2],[2,3],[3,4]])\n",
    "a[1,:].shape\n",
    "\n",
    "d={'e':1,'a':4,'r':0,'b':10}\n",
    "list(d.keys()).index('a')\n",
    "len(d)\n",
    "\n",
    "l=[]\n",
    "l1=np.array([1,2,3])\n",
    "l.append(l1)\n",
    "l\n",
    "from sklearn.decomposition import PCA\n",
    "pca=PCA()\n",
    "x_train_trans=pca.fit_transform(x_train)\n",
    "x_test_trans=pca.transform(x_test)\n",
    "pca.explained_variance_\n",
    "curr_var=0\n",
    "k=0\n",
    "total=pca.explained_variance_.sum()\n",
    "while curr_var/total < 0.99:\n",
    "    curr_var+=pca.explained_variance_[k]\n",
    "    k+=1\n",
    "k=k-1\n",
    "k\n",
    "pca=PCA(n_components=k)\n",
    "x_train_pca=pca.fit_transform(x_train)\n",
    "x_test_pca=pca.transform(x_test)\n",
    "x_train=x_train_pca\n",
    "x_test=x_test_pca\n",
    "\n",
    "\n",
    "\n",
    "a=[1,1,1,0,1,0,0,2,2,1,2]\n",
    "Counter(a)\n",
    "Counter(a)[1]\n",
    "\n",
    "a=[1,2,1,3,4,5]\n",
    "b=[1,2,3,4,6,7]\n",
    "set(a)-set(b)\n",
    "\n",
    "a=[1,10,20,20,1,30]\n",
    "np.log(a)\n",
    "\n",
    "a=np.array([])\n",
    "#a.append(1)\n",
    "a\n",
    "\n",
    "a=np.array([2,4,6,8,10])\n",
    "b=np.array([2,4,6,8,5])\n",
    "a/b\n",
    "\n",
    "d={'e':1,'a':4,'r':0,'b':10}\n",
    "len(d.keys())\n",
    "\n",
    "a=[1,2,3,4]\n",
    "\n",
    "def check(d):\n",
    "    print(d)\n",
    "    del d['a']\n",
    "    print(d)\n",
    "    return\n",
    "\n",
    "d={1:{'a':1,'b':2},2:{'a':4,'b':8}}\n",
    "d1={}\n",
    "for k,v in d.items():\n",
    "    d1[k]=v\n",
    "\n",
    "print(d)\n",
    "print(d1)\n",
    "check(d1[1])\n",
    "print(d)\n",
    "print(d1)\n",
    "\n",
    "a=[1,2,3,4,5]\n",
    "del a[1,2]"
   ]
  }
 ],
 "metadata": {
  "kernelspec": {
   "display_name": "Python 3",
   "language": "python",
   "name": "python3"
  },
  "language_info": {
   "codemirror_mode": {
    "name": "ipython",
    "version": 3
   },
   "file_extension": ".py",
   "mimetype": "text/x-python",
   "name": "python",
   "nbconvert_exporter": "python",
   "pygments_lexer": "ipython3",
   "version": "3.6.3"
  }
 },
 "nbformat": 4,
 "nbformat_minor": 2
}
